{
  "nbformat": 4,
  "nbformat_minor": 0,
  "metadata": {
    "colab": {
      "provenance": []
    },
    "kernelspec": {
      "name": "python3",
      "display_name": "Python 3"
    },
    "language_info": {
      "name": "python"
    }
  },
  "cells": [
    {
      "cell_type": "code",
      "execution_count": 16,
      "metadata": {
        "colab": {
          "base_uri": "https://localhost:8080/"
        },
        "id": "wl_rAwez4ZMH",
        "outputId": "da7ff9ad-0570-4e9d-a09f-8a13f405695c"
      },
      "outputs": [
        {
          "output_type": "stream",
          "name": "stdout",
          "text": [
            "Accuracy: 0.8591047279589056\n",
            "                   precision    recall  f1-score   support\n",
            "\n",
            "   cyber_bullying       0.86      0.99      0.92      7915\n",
            "not_cyberbullying       0.78      0.24      0.37      1624\n",
            "\n",
            "         accuracy                           0.86      9539\n",
            "        macro avg       0.82      0.61      0.64      9539\n",
            "     weighted avg       0.85      0.86      0.83      9539\n",
            "\n"
          ]
        }
      ],
      "source": [
        "import numpy as np\n",
        "import pandas as pd\n",
        "from sklearn.model_selection import train_test_split\n",
        "from sklearn.feature_extraction.text import TfidfVectorizer\n",
        "from sklearn.naive_bayes import MultinomialNB\n",
        "from sklearn.metrics import accuracy_score, classification_report\n",
        "\n",
        "# Load your dataset (replace 'data.csv' with your dataset file)\n",
        "data = pd.read_csv('/content/modified_dataset.csv')\n",
        "\n",
        "# Split the data into training and testing sets\n",
        "X_train, X_test, y_train, y_test = train_test_split(data['tweet_text'], data['label'], test_size=0.2, random_state=42)\n",
        "\n",
        "# Text preprocessing using TF-IDF vectorization\n",
        "tfidf_vectorizer = TfidfVectorizer(max_features=10000, stop_words='english')\n",
        "X_train_tfidf = tfidf_vectorizer.fit_transform(X_train)\n",
        "X_test_tfidf = tfidf_vectorizer.transform(X_test)\n",
        "\n",
        "# Create and train a simple Naive Bayes classifier\n",
        "classifier = MultinomialNB()\n",
        "classifier.fit(X_train_tfidf, y_train)\n",
        "\n",
        "# Make predictions\n",
        "y_pred = classifier.predict(X_test_tfidf)\n",
        "\n",
        "# Evaluate the model\n",
        "accuracy = accuracy_score(y_test, y_pred)\n",
        "print(f'Accuracy: {accuracy}')\n",
        "print(classification_report(y_test, y_pred))\n",
        "\n",
        "# Save the classifier (optional)\n",
        "import joblib\n",
        "joblib.dump(classifier, 'cyberbullying_classifier.pkl')\n",
        "\n",
        "# To make predictions in the future, load the classifier and use it like this:\n",
        "loaded_classifier = joblib.load('cyberbullying_classifier.pkl')\n",
        "new_text = [\"Some text to classify as cyberbullying or not\"]\n",
        "new_text_tfidf = tfidf_vectorizer.transform(new_text)\n",
        "prediction = loaded_classifier.predict(new_text_tfidf)\n"
      ]
    },
    {
      "cell_type": "code",
      "source": [
        "loaded_classifier = joblib.load('cyberbullying_classifier.pkl')\n",
        "new_text = [\"I will kill you little boy\"]\n",
        "new_text_tfidf = tfidf_vectorizer.transform(new_text)\n",
        "prediction = loaded_classifier.predict(new_text_tfidf)\n",
        "print(prediction)"
      ],
      "metadata": {
        "colab": {
          "base_uri": "https://localhost:8080/"
        },
        "id": "rnMUBuKqIqGx",
        "outputId": "b1c11f03-27ba-477c-a6a7-f34ee8d4ac04"
      },
      "execution_count": 22,
      "outputs": [
        {
          "output_type": "stream",
          "name": "stdout",
          "text": [
            "['cyber_bullying']\n"
          ]
        }
      ]
    },
    {
      "cell_type": "code",
      "source": [
        "loaded_classifier = joblib.load('cyberbullying_classifier.pkl')\n",
        "new_text = [\"In other words #mcdonalds your food was crap\"]\n",
        "new_text_tfidf = tfidf_vectorizer.transform(new_text)\n",
        "prediction = loaded_classifier.predict(new_text_tfidf)\n",
        "print(prediction)"
      ],
      "metadata": {
        "colab": {
          "base_uri": "https://localhost:8080/"
        },
        "id": "72knop0oIyJ4",
        "outputId": "742bcccc-61c2-47ad-b821-b89f97787078"
      },
      "execution_count": 19,
      "outputs": [
        {
          "output_type": "stream",
          "name": "stdout",
          "text": [
            "['not_cyberbullying']\n"
          ]
        }
      ]
    },
    {
      "cell_type": "code",
      "source": [
        "loaded_classifier = joblib.load('cyberbullying_classifier.pkl')\n",
        "new_text = [\"I love eating, yayyyy\"]\n",
        "new_text_tfidf = tfidf_vectorizer.transform(new_text)\n",
        "prediction = loaded_classifier.predict(new_text_tfidf)\n",
        "print(prediction)"
      ],
      "metadata": {
        "colab": {
          "base_uri": "https://localhost:8080/"
        },
        "id": "BWfphksAPcRi",
        "outputId": "6af4bef3-8eee-4743-b4fc-9afcff3bb673"
      },
      "execution_count": 21,
      "outputs": [
        {
          "output_type": "stream",
          "name": "stdout",
          "text": [
            "['cyber_bullying']\n"
          ]
        }
      ]
    },
    {
      "cell_type": "markdown",
      "source": [],
      "metadata": {
        "id": "E7ywA2RaIp4J"
      }
    }
  ]
}